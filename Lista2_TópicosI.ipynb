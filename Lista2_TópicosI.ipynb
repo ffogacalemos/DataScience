{
 "cells": [
  {
   "cell_type": "code",
   "execution_count": 18,
   "id": "fe8b97e1-51b4-4e8d-a318-b95f3fdde66a",
   "metadata": {},
   "outputs": [
    {
     "name": "stdout",
     "output_type": "stream",
     "text": [
      "Escreva os elementos da lista 1 e 0 para parar\n"
     ]
    },
    {
     "name": "stdin",
     "output_type": "stream",
     "text": [
      "Digite o elemento:  1\n",
      "Digite o elemento:  0\n"
     ]
    },
    {
     "name": "stdout",
     "output_type": "stream",
     "text": [
      "Escreva os elementos da lista 2 e 0 para parar\n"
     ]
    },
    {
     "name": "stdin",
     "output_type": "stream",
     "text": [
      "Digite o elemento:  1\n",
      "Digite o elemento:  0\n"
     ]
    },
    {
     "name": "stdout",
     "output_type": "stream",
     "text": [
      "1\n",
      "1\n"
     ]
    }
   ],
   "source": [
    "print(f\"Escreva os elementos da lista 1 e 0 para parar\")\n",
    "Lista1 = []\n",
    "Lista2 = []\n",
    "\n",
    "x = 1\n",
    "x = int(input(\"Digite o elemento: \"))\n",
    "        \n",
    "while(x != 0):\n",
    "      Lista1.append(x)\n",
    "      x = int(input(\"Digite o elemento: \"))\n",
    "\n",
    "print(f\"Escreva os elementos da lista 2 e 0 para parar\")\n",
    "x = int(input(\"Digite o elemento: \"))\n",
    "\n",
    "\n",
    "while x != 0:\n",
    "        Lista2.append(x)\n",
    "        x = int(input(\"Digite o elemento: \"))\n",
    "                \n",
    "Lista3 = Lista1 + Lista2\n",
    "                \n",
    "for i in range(len(Lista3)):\n",
    "        print(f\"{Lista3[i]}\")"
   ]
  },
  {
   "cell_type": "code",
   "execution_count": 39,
   "id": "21ea3155-2e78-4e1f-b6ae-8c775b379c23",
   "metadata": {},
   "outputs": [
    {
     "name": "stdout",
     "output_type": "stream",
     "text": [
      "Escreva os elementos da lista 1 e 0 para parar\n"
     ]
    },
    {
     "name": "stdin",
     "output_type": "stream",
     "text": [
      "Digite o elemento:  0\n"
     ]
    },
    {
     "name": "stdout",
     "output_type": "stream",
     "text": [
      "Escreva os elementos da lista 2 e 0 para parar\n"
     ]
    },
    {
     "name": "stdin",
     "output_type": "stream",
     "text": [
      "Digite o elemento:  0\n"
     ]
    }
   ],
   "source": [
    "print(f\"Escreva os elementos da lista 1 e 0 para parar\")\n",
    "Lista1 = []\n",
    "Lista2 = []\n",
    "Lista3 = []\n",
    "\n",
    "x = 1\n",
    "x = int(input(\"Digite o elemento: \"))\n",
    "        \n",
    "while(x != 0):\n",
    "      Lista1.append(x)\n",
    "      x = int(input(\"Digite o elemento: \"))\n",
    "\n",
    "print(f\"Escreva os elementos da lista 2 e 0 para parar\")\n",
    "x = int(input(\"Digite o elemento: \"))\n",
    "\n",
    "\n",
    "while x != 0:\n",
    "        Lista2.append(x)\n",
    "        x = int(input(\"Digite o elemento: \"))\n",
    "                \n",
    "for i in range(len(Lista1)):\n",
    "    if Lista1[i] not in Lista3 :\n",
    "        Lista3.append(Lista1[i])\n",
    "        \n",
    "for i in range(len(Lista2)):\n",
    "    if Lista2[i] not in Lista3:\n",
    "        Lista3.append(Lista2[i])\n",
    "        \n",
    "                \n",
    "for i in range(len(Lista3)):\n",
    "        print(f\"{Lista3[i]}\")"
   ]
  },
  {
   "cell_type": "code",
   "execution_count": 40,
   "id": "6f656a65-aed5-4f55-9081-ce518de2e27c",
   "metadata": {},
   "outputs": [
    {
     "name": "stdin",
     "output_type": "stream",
     "text": [
      "Digite a experessão:  ()\n"
     ]
    },
    {
     "name": "stdout",
     "output_type": "stream",
     "text": [
      "OK\n"
     ]
    }
   ],
   "source": [
    "x = input(\"Digite a experessão: \")\n",
    "\n",
    "exp = list(x)\n",
    "pilha = []\n",
    "erro = 0\n",
    "\n",
    "for i in range(len(exp)):\n",
    "    if exp[i] == '(':\n",
    "        pilha.append(exp[i])\n",
    "        \n",
    "    elif exp[i] == ')':\n",
    "        if(pilha):\n",
    "            pilha.pop()\n",
    "        else:\n",
    "            erro = 1\n",
    "            break\n",
    "        \n",
    "if(not pilha and erro == 0):\n",
    "    print(\"OK\")\n",
    "else:\n",
    "    print(\"Erro\")\n",
    "\n"
   ]
  },
  {
   "cell_type": "code",
   "execution_count": 42,
   "id": "574a22eb-ca44-43d2-9cc1-81c9b393b90f",
   "metadata": {},
   "outputs": [
    {
     "name": "stdout",
     "output_type": "stream",
     "text": [
      "O menor é: -10\n",
      "O maior é: 5\n",
      "O menor é: -2.0\n"
     ]
    }
   ],
   "source": [
    "T = [-10, -8, 0, 1, 2, 5, -2, -4]\n",
    "\n",
    "print(f\"O menor é: {min(T)}\")\n",
    "print(f\"O maior é: {max(T)}\")\n",
    "print(f\"O menor é: {sum(T)/len(T)}\")"
   ]
  },
  {
   "cell_type": "code",
   "execution_count": 50,
   "id": "5f11a24a-2b39-4080-a216-f87dbd20252a",
   "metadata": {},
   "outputs": [
    {
     "name": "stdin",
     "output_type": "stream",
     "text": [
      "Digite a palavra:  aaabb\n"
     ]
    },
    {
     "name": "stdout",
     "output_type": "stream",
     "text": [
      "{'a': 3, 'b': 2}\n"
     ]
    }
   ],
   "source": [
    "d = {}\n",
    "\n",
    "palavra = input(\"Digite a palavra: \").replace(' ', '')\n",
    "\n",
    "palavra = list(palavra)\n",
    "\n",
    "for letra in palavra:\n",
    "    d[letra] = d.setdefault(letra, 0) + 1\n",
    "    \n",
    "print(d)\n",
    "\n",
    "\n",
    "\n"
   ]
  },
  {
   "cell_type": "code",
   "execution_count": 61,
   "id": "8855423c-509c-4c12-a99d-6409f3b61916",
   "metadata": {},
   "outputs": [
    {
     "name": "stdout",
     "output_type": "stream",
     "text": [
      "Estão nas duas\n",
      "4\n",
      "7\n",
      "Somente na primeira\n",
      "1\n",
      "2\n",
      "3\n",
      "5\n",
      "6\n",
      "Somente na segunda\n",
      "9\n",
      "12\n",
      "17\n",
      "19\n",
      "Não repetidos\n",
      "1\n",
      "2\n",
      "3\n",
      "5\n",
      "6\n",
      "9\n",
      "12\n",
      "17\n",
      "19\n"
     ]
    }
   ],
   "source": [
    "Lista1 = [1,2,3,4,5,6,7]\n",
    "Lista2 = [4,7,9,12,17,19]\n",
    "Lista3 = []\n",
    "\n",
    "print(f\"Estão nas duas\")\n",
    "\n",
    "for i in range(len(Lista1)):\n",
    "    if Lista1[i] in Lista2:\n",
    "        print(f\"{Lista1[i]}\")\n",
    "\n",
    "        \n",
    "print(f\"Somente na primeira\")\n",
    "\n",
    "for i in range(len(Lista1)):\n",
    "    if Lista1[i] not in Lista2:\n",
    "        print(f\"{Lista1[i]}\")\n",
    "        Lista3.append(Lista1[i])\n",
    "        \n",
    "print(f\"Somente na segunda\")\n",
    "\n",
    "for i in range(len(Lista2)):\n",
    "    if Lista2[i] not in Lista1:\n",
    "        print(f\"{Lista2[i]}\")\n",
    "        Lista3.append(Lista2[i])\n",
    "\n",
    "print(\"Não repetidos\")\n",
    "for i in range(len(Lista3)):\n",
    "    print(f\"{Lista3[i]}\")\n"
   ]
  },
  {
   "cell_type": "code",
   "execution_count": 63,
   "id": "984b3af8-a2f7-4de7-b602-499017b64dbc",
   "metadata": {},
   "outputs": [
    {
     "name": "stdin",
     "output_type": "stream",
     "text": [
      "primeira string:  AAAB\n",
      "segunda string:  AB\n"
     ]
    },
    {
     "name": "stdout",
     "output_type": "stream",
     "text": [
      "1\n",
      "Não encontrado\n"
     ]
    }
   ],
   "source": [
    "um = input(\"primeira string: \")\n",
    "dois = input(\"segunda string: \")\n",
    "\n",
    "\n",
    "lista1 = list(um)\n",
    "lista2 = list(dois)\n",
    "\n",
    "aux = []\n",
    "\n",
    "for i in range(len(lista2)):\n",
    "    if lista2[i] in lista1:\n",
    "        aux.append(lista1.index(lista2[i]))\n",
    "        \n",
    "for\n",
    "if cont == len(lista2):\n",
    "    print(f\"Encontrado na posição {pos}\")\n",
    "else:\n",
    "    print(\"Não encontrado\")\n"
   ]
  },
  {
   "cell_type": "code",
   "execution_count": null,
   "id": "f9930eaf-f460-4f01-93f8-dbd8f0e2c147",
   "metadata": {},
   "outputs": [],
   "source": [
    "def quadrado(A):\n",
    "    return A*A\n",
    "    "
   ]
  }
 ],
 "metadata": {
  "kernelspec": {
   "display_name": "Python 3 (ipykernel)",
   "language": "python",
   "name": "python3"
  },
  "language_info": {
   "codemirror_mode": {
    "name": "ipython",
    "version": 3
   },
   "file_extension": ".py",
   "mimetype": "text/x-python",
   "name": "python",
   "nbconvert_exporter": "python",
   "pygments_lexer": "ipython3",
   "version": "3.10.9"
  }
 },
 "nbformat": 4,
 "nbformat_minor": 5
}
