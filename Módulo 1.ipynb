{
 "cells": [
  {
   "cell_type": "code",
   "execution_count": 9,
   "id": "804c5dc6",
   "metadata": {},
   "outputs": [
    {
     "name": "stdout",
     "output_type": "stream",
     "text": [
      "Insire o valor monetário: 100\n",
      "O novo valor é:  114.99999999999999\n"
     ]
    }
   ],
   "source": [
    "#Exercicio 1\n",
    "valor_monet = input(\"Insire o valor monetário: \")\n",
    "valor_monet = float(valor_monet)*1.15\n",
    "print(\"O novo valor é: \", valor_monet)"
   ]
  },
  {
   "cell_type": "code",
   "execution_count": 25,
   "id": "85208254",
   "metadata": {},
   "outputs": [
    {
     "name": "stdout",
     "output_type": "stream",
     "text": [
      "Insira a idade: 1\n",
      "Insira o Salário: 1\n",
      "Insira o sexo M, F ou Outro: M\n"
     ]
    }
   ],
   "source": [
    "#Exercicio 2\n",
    "idade = int (input(\"Insira a idade: \"))\n",
    "if idade<0 or idade>150:\n",
    "    print(\"Idade invalida\")\n",
    "    \n",
    "salario = float(input(\"Insira o Salário: \"))\n",
    "if salario<0:\n",
    "    print(\"Salário invalido\")\n",
    "    \n",
    "sexo = input(\"Insira o sexo M, F ou Outro: \")\n",
    "if sexo != \"M\" and sexo != \"F\" and sexo != \"Outro\":\n",
    "    print(\"Sexo inválido\")\n"
   ]
  },
  {
   "cell_type": "code",
   "execution_count": 34,
   "id": "00e46533",
   "metadata": {},
   "outputs": [
    {
     "name": "stdout",
     "output_type": "stream",
     "text": [
      "More perto da Vítima:não\n",
      "Já trabalhou com a Vítima:não\n",
      "Telefonou para a Vítima:não\n",
      "Esteve no local do crime:não\n",
      "devia para vítima:não\n",
      "Liberados\n"
     ]
    }
   ],
   "source": [
    "#Exercicio 3\n",
    "pontos = 0\n",
    "\n",
    "pergunta = input(\"More perto da Vítima:\")\n",
    "if(pergunta == 'sim'):\n",
    "    pontos+=1\n",
    "pergunta = input(\"Já trabalhou com a Vítima:\")\n",
    "if(pergunta == 'sim'):\n",
    "    pontos+=1\n",
    "pergunta = input(\"Telefonou para a Vítima:\")\n",
    "if(pergunta == 'sim'):\n",
    "    pontos+=1\n",
    "pergunta = input(\"Esteve no local do crime:\")\n",
    "if(pergunta == 'sim'):\n",
    "    pontos+=1\n",
    "pergunta = input(\"devia para vítima:\")\n",
    "if(pergunta == 'sim'):\n",
    "    pontos+=1\n",
    "    \n",
    "if(pontos == 5):\n",
    "    print(\"Culpado\")\n",
    "elif pontos >= 3 and pontos <=4:\n",
    "    print(\"Cúmplices\")\n",
    "elif(pontos == 2):\n",
    "    print(\"Suspeitos\")\n",
    "else:\n",
    "    print(\"Liberados\")"
   ]
  },
  {
   "cell_type": "code",
   "execution_count": 36,
   "id": "1f356610",
   "metadata": {},
   "outputs": [
    {
     "name": "stdout",
     "output_type": "stream",
     "text": [
      "9\n",
      "18\n",
      "27\n",
      "36\n",
      "45\n",
      "54\n",
      "63\n",
      "72\n",
      "81\n",
      "90\n"
     ]
    }
   ],
   "source": [
    "#Exercicio 4\n",
    "i = 9\n",
    "\n",
    "while(i<=9*10):\n",
    "    print(i)\n",
    "    i+=9"
   ]
  },
  {
   "cell_type": "code",
   "execution_count": null,
   "id": "6f8a504e",
   "metadata": {},
   "outputs": [],
   "source": []
  }
 ],
 "metadata": {
  "kernelspec": {
   "display_name": "Python 3 (ipykernel)",
   "language": "python",
   "name": "python3"
  },
  "language_info": {
   "codemirror_mode": {
    "name": "ipython",
    "version": 3
   },
   "file_extension": ".py",
   "mimetype": "text/x-python",
   "name": "python",
   "nbconvert_exporter": "python",
   "pygments_lexer": "ipython3",
   "version": "3.10.7"
  }
 },
 "nbformat": 4,
 "nbformat_minor": 5
}
