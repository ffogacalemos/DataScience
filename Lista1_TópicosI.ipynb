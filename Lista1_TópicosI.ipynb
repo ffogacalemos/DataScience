{
 "cells": [
  {
   "cell_type": "code",
   "execution_count": 40,
   "id": "213048b4-5447-44b7-98f8-cc55e73304cb",
   "metadata": {},
   "outputs": [
    {
     "name": "stdin",
     "output_type": "stream",
     "text": [
      "Insira a primeira nota 5\n",
      "Insira a segunda nota 8\n",
      "Insira a terceira nota 8\n"
     ]
    },
    {
     "name": "stdout",
     "output_type": "stream",
     "text": [
      "Reprovado\n"
     ]
    }
   ],
   "source": [
    "materia1 =  int (input(\"Insira a primeira nota\"))\n",
    "materia2 = int (input(\"Insira a segunda nota\"))\n",
    "materia3 = int (input(\"Insira a terceira nota\"))\n",
    "\n",
    "if(materia1 > 7 and materia2 > 7 and materia3 >7):\n",
    "    print(f\"Aprovado\")\n",
    "else:\n",
    "    print(f\"Reprovado\")"
   ]
  },
  {
   "cell_type": "code",
   "execution_count": 11,
   "id": "c87347d0-8be7-4900-837d-4d66ac488019",
   "metadata": {},
   "outputs": [
    {
     "name": "stdin",
     "output_type": "stream",
     "text": [
      "Insira os dias 1\n",
      "Insira as horas 0\n",
      "Insira os minutos 0\n"
     ]
    },
    {
     "name": "stdout",
     "output_type": "stream",
     "text": [
      "O total disso em segundos é 86400\n"
     ]
    }
   ],
   "source": [
    "dias = int(input(\"Insira os dias\"))\n",
    "horas = int(input(\"Insira as horas\"))\n",
    "minutos = int(input(\"Insira os minutos\"))\n",
    "\n",
    "print(f\"O total disso em segundos é {(dias*86400)+(horas*86400)+(minutos*60)}\")\n"
   ]
  },
  {
   "cell_type": "code",
   "execution_count": 12,
   "id": "200829c4-9255-4743-a386-4969bf4f90e9",
   "metadata": {},
   "outputs": [
    {
     "name": "stdin",
     "output_type": "stream",
     "text": [
      "Digite a temperatura em Celsius:  55\n"
     ]
    },
    {
     "name": "stdout",
     "output_type": "stream",
     "text": [
      "A temperatura em Farenheit é: 131.0\n"
     ]
    }
   ],
   "source": [
    "celsius = int(input(\"Digite a temperatura em Celsius: \"))\n",
    "\n",
    "print(f\"A temperatura em Farenheit é: {((9*celsius)/5)+32}\")"
   ]
  },
  {
   "cell_type": "code",
   "execution_count": 14,
   "id": "b90b17cc-263c-4142-92e2-2c6764cf96b2",
   "metadata": {},
   "outputs": [
    {
     "name": "stdin",
     "output_type": "stream",
     "text": [
      "Digite a velocidade do carro em km/h:  78\n"
     ]
    },
    {
     "name": "stdout",
     "output_type": "stream",
     "text": [
      "Não foi multado\n"
     ]
    }
   ],
   "source": [
    "velocidade = int(input(\"Digite a velocidade do carro em km/h: \"))\n",
    "\n",
    "if(velocidade > 80):\n",
    "    print(f\"O usuario foi multado em: {(velocidade-80)*5} reais\")\n",
    "else:\n",
    "    print(f\"Não foi multado\")"
   ]
  },
  {
   "cell_type": "code",
   "execution_count": 15,
   "id": "47390052-7011-45c9-8b1a-ff2ff70c256c",
   "metadata": {},
   "outputs": [
    {
     "name": "stdin",
     "output_type": "stream",
     "text": [
      "Digite a quantidade de kWh consumida:  100\n",
      "Digite o tipo de instalação(R para Residencias, I para indústrias e C para comercios):  R\n"
     ]
    },
    {
     "name": "stdout",
     "output_type": "stream",
     "text": [
      "Vai pagar: 40.0\n"
     ]
    }
   ],
   "source": [
    "kWh = int(input(\"Digite a quantidade de kWh consumida: \"))\n",
    "\n",
    "tipo = input(\"Digite o tipo de instalação(R para Residencias, I para indústrias e C para comercios): \")\n",
    "\n",
    "if(tipo == 'R'):\n",
    "    if(kWh > 500):\n",
    "        print(f\"Vai pagar: {kWh*0.65}\")\n",
    "    else:\n",
    "        print(f\"Vai pagar: {kWh*0.40}\")\n",
    "elif(tipo == 'I'):\n",
    "    if(kWh > 5000):\n",
    "        print(f\"Vai pagar: {kWh*0.60}\")\n",
    "    else:\n",
    "        print(f\"Vai pagar: {kWh*0.55}\")\n",
    "elif(tipo == 'C'):\n",
    "    if(kWh > 1000):\n",
    "        print(f\"Vai pagar: {kWh*0.60}\")\n",
    "    else:\n",
    "        print(f\"Vai pagar: {kWh*0.55}\")\n"
   ]
  },
  {
   "cell_type": "code",
   "execution_count": 18,
   "id": "4f52b57c-7e7c-4e35-99f1-7f38fc779298",
   "metadata": {},
   "outputs": [
    {
     "name": "stdout",
     "output_type": "stream",
     "text": [
      "10\n",
      "9\n",
      "8\n",
      "7\n",
      "6\n",
      "5\n",
      "4\n",
      "3\n",
      "2\n",
      "1\n",
      "0\n",
      "Fogo!\n"
     ]
    }
   ],
   "source": [
    "for i in reversed(range(11)):\n",
    "    print(f\"{i}\")\n",
    "print(f\"Fogo!\")"
   ]
  },
  {
   "cell_type": "code",
   "execution_count": 21,
   "id": "387d3855-de8b-431e-95b7-d9d6b468da2e",
   "metadata": {},
   "outputs": [
    {
     "name": "stdin",
     "output_type": "stream",
     "text": [
      "Digite o primeiro numero:  20\n",
      "Digite o segundo numero:  5\n"
     ]
    },
    {
     "name": "stdout",
     "output_type": "stream",
     "text": [
      "A divisão inteira é: 4\n",
      "O resto é: 0\n"
     ]
    }
   ],
   "source": [
    "numero1 = int(input(\"Digite o primeiro numero: \"))\n",
    "numero2 = int(input(\"Digite o segundo numero: \"))\n",
    "\n",
    "div = 0\n",
    "\n",
    "while(numero1 >= numero2):\n",
    "    numero1 -= numero2\n",
    "    div+=1\n",
    "\n",
    "print(f\"A divisão inteira é: {div}\")\n",
    "print(f\"O resto é: {numero1}\")"
   ]
  },
  {
   "cell_type": "code",
   "execution_count": 24,
   "id": "632b9ebd-f762-4a0b-9815-dcd240a32803",
   "metadata": {},
   "outputs": [
    {
     "name": "stdin",
     "output_type": "stream",
     "text": [
      "Digite um numero(Zero para parar):  5\n",
      "Digite um numero(Zero para parar):  4\n",
      "Digite um numero(Zero para parar):  6\n",
      "Digite um numero(Zero para parar):  5\n",
      "Digite um numero(Zero para parar):  0\n"
     ]
    },
    {
     "name": "stdout",
     "output_type": "stream",
     "text": [
      "Foram digitados 4 numeros. Sua soma é20 e a média aritmética é 5.00\n"
     ]
    }
   ],
   "source": [
    "numero = int(input(\"Digite um numero(Zero para parar): \"))\n",
    "n = 0\n",
    "soma = 0\n",
    "\n",
    "while(numero != 0):\n",
    "    n+=1\n",
    "    soma+=numero\n",
    "    numero = int(input(\"Digite um numero(Zero para parar): \"))\n",
    "\n",
    "print(f\"Foram digitados {n} numeros. Sua soma é {soma} e a média aritmética é {(soma/n):.2f}\")"
   ]
  },
  {
   "cell_type": "code",
   "execution_count": 36,
   "id": "27876fc7-0af5-4c1a-a72c-69e329a3be36",
   "metadata": {},
   "outputs": [
    {
     "name": "stdin",
     "output_type": "stream",
     "text": [
      "Digite o numero a ser testado:  7\n"
     ]
    },
    {
     "name": "stdout",
     "output_type": "stream",
     "text": [
      "O numero é primo\n"
     ]
    }
   ],
   "source": [
    "numero = int(input(\"Digite o numero a ser testado: \"))\n",
    "\n",
    "primo = True\n",
    "\n",
    "if(numero%2 == 0):\n",
    "    primo = False\n",
    "    \n",
    "if(primo == True):\n",
    "    for i in range(3, numero, 2):\n",
    "        if(numero%i == 0):\n",
    "            primo = False\n",
    "            \n",
    "if(primo == False):\n",
    "    print(\"O numero não é primo\")\n",
    "else:\n",
    "    print(\"O numero é primo\")"
   ]
  },
  {
   "cell_type": "code",
   "execution_count": 3,
   "id": "7d3d6370-2fcc-468e-b7bb-08bdd5a871a6",
   "metadata": {},
   "outputs": [
    {
     "name": "stdin",
     "output_type": "stream",
     "text": [
      "Digite o primeiro valor:  1\n",
      "Digite o segundo valor:  3\n",
      "Digite o terceiro valor:  9\n"
     ]
    },
    {
     "name": "stdout",
     "output_type": "stream",
     "text": [
      "O maior é 9 e o menor é 1\n"
     ]
    }
   ],
   "source": [
    "maior = int(input(\"Digite o primeiro valor: \"))\n",
    "menor = int(input(\"Digite o segundo valor: \"))\n",
    "\n",
    "if(maior < menor):\n",
    "    aux = maior\n",
    "    maior = menor\n",
    "    menor = aux\n",
    "\n",
    "terceiro = int(input(\"Digite o terceiro valor: \"))\n",
    "                     \n",
    "if(terceiro > maior):\n",
    "    maior = terceiro\n",
    "if(terceiro < menor):\n",
    "    menor = terceiro\n",
    "\n",
    "print(f\"O maior é {maior} e o menor é {menor}\")"
   ]
  },
  {
   "cell_type": "code",
   "execution_count": null,
   "id": "5af198a8-2033-4648-ad5e-56bbf8d7ccf3",
   "metadata": {},
   "outputs": [],
   "source": []
  }
 ],
 "metadata": {
  "kernelspec": {
   "display_name": "Python 3 (ipykernel)",
   "language": "python",
   "name": "python3"
  },
  "language_info": {
   "codemirror_mode": {
    "name": "ipython",
    "version": 3
   },
   "file_extension": ".py",
   "mimetype": "text/x-python",
   "name": "python",
   "nbconvert_exporter": "python",
   "pygments_lexer": "ipython3",
   "version": "3.10.9"
  }
 },
 "nbformat": 4,
 "nbformat_minor": 5
}
