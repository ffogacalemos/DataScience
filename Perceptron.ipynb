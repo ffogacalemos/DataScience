{
 "cells": [
  {
   "cell_type": "code",
   "execution_count": 8,
   "id": "d02ba592-5481-4e7d-b0f0-d4f34da834ef",
   "metadata": {},
   "outputs": [],
   "source": [
    "# Importação de bibliotecas\n",
    "import numpy as np\n",
    "\n",
    "#Informações necessárias: x, y, z\n",
    "\n",
    "# Definindo a entrada\n",
    "\n",
    "x = [[0.,0.],[0.,1.],[1.,0.],[1.,1.]]\n",
    "\n",
    "# Vetor de saídas\n",
    "\n",
    "y = [0.0,0.0,0.0,1.0] #AND\n",
    "y2 = [0.0,1.0,1.0, 1.0] #OR"
   ]
  },
  {
   "cell_type": "code",
   "execution_count": 4,
   "id": "9f8e38b4-ed95-4602-b9a0-e948ab1790b6",
   "metadata": {},
   "outputs": [
    {
     "data": {
      "text/plain": [
       "[[0.0, 0.0], [0.0, 1.0], [1.0, 0.0], [1.0, 1.0]]"
      ]
     },
     "execution_count": 4,
     "metadata": {},
     "output_type": "execute_result"
    }
   ],
   "source": [
    "x"
   ]
  },
  {
   "cell_type": "code",
   "execution_count": null,
   "id": "5a25b456-3118-4d82-8b59-315a204890a3",
   "metadata": {},
   "outputs": [],
   "source": [
    "#Defina a entrada\n",
    "#Defina o vetor de saídas\n",
    "#Definir o vetor de pesos\n",
    "#definir o vetor de saídas calculadas\n",
    "#Soma ponderada (x até o tamanho da entrada)\n",
    "#Limiar(manualmente)\n",
    "#definir o vetor para guardar os erros\n"
   ]
  },
  {
   "cell_type": "code",
   "execution_count": 11,
   "id": "4c4a4b8f-0ec5-4015-b1e9-0ed8058e146f",
   "metadata": {},
   "outputs": [],
   "source": [
    "def perceptron(x , y, z, t, eta):\n",
    "    #Inicializando o vetor de pesos\n",
    "    w = np.zeros(len(x[0]))\n",
    "    \n",
    "    #Definindo a variavel que guardará o vetor de saídas da rede\n",
    "    y_saida = np.ones(len(y))\n",
    "    \n",
    "    #Array de erros\n",
    "    error = np.ones(len(y))\n",
    "    \n",
    "    n = 0\n",
    "    \n",
    "    J = []\n",
    "    \n",
    "    while n < t:\n",
    "        for i in range(0, len(x)):\n",
    "            #soma ponderada das entradas pelos seus respectivos pesos\n",
    "            f = np.dot(x[i],w)\n",
    "            #condição da função de ativação\n",
    "            if f < z:\n",
    "                ylimiar = 0\n",
    "            else:\n",
    "                ylimiar = 1\n",
    "            y_saida[i] = ylimiar\n",
    "            \n",
    "            #atualização dos pesos\n",
    "            \n",
    "        for j in range(0, len(w)):\n",
    "            w[j] = w[j] + eta*(y[i] - ylimiar)*x[i][j]\n",
    "        n+=1\n",
    "            \n",
    "        for i in range(0, len(y)):\n",
    "            error[i] = (y[i] - y_saida[i] **2)\n",
    "        J.append(0.5*np.sum(error))\n",
    "    return w, J\n",
    "                            \n",
    "z = 0.0\n",
    "eta = 0.5\n",
    "t = 50\n",
    "                    \n"
   ]
  },
  {
   "cell_type": "code",
   "execution_count": 15,
   "id": "df0a9fe1-039a-40a7-a4c8-912c6846e803",
   "metadata": {},
   "outputs": [
    {
     "name": "stdout",
     "output_type": "stream",
     "text": [
      "(array([0., 0.]), [-1.5, -1.5, -1.5, -1.5, -1.5, -1.5, -1.5, -1.5, -1.5, -1.5, -1.5, -1.5, -1.5, -1.5, -1.5, -1.5, -1.5, -1.5, -1.5, -1.5, -1.5, -1.5, -1.5, -1.5, -1.5, -1.5, -1.5, -1.5, -1.5, -1.5, -1.5, -1.5, -1.5, -1.5, -1.5, -1.5, -1.5, -1.5, -1.5, -1.5, -1.5, -1.5, -1.5, -1.5, -1.5, -1.5, -1.5, -1.5, -1.5, -1.5])\n"
     ]
    }
   ],
   "source": [
    "print(perceptron(x, y, z, t, eta))"
   ]
  },
  {
   "cell_type": "code",
   "execution_count": null,
   "id": "fed66032-0b56-4bef-ae03-c0ffc77440a2",
   "metadata": {},
   "outputs": [],
   "source": []
  }
 ],
 "metadata": {
  "kernelspec": {
   "display_name": "Python 3 (ipykernel)",
   "language": "python",
   "name": "python3"
  },
  "language_info": {
   "codemirror_mode": {
    "name": "ipython",
    "version": 3
   },
   "file_extension": ".py",
   "mimetype": "text/x-python",
   "name": "python",
   "nbconvert_exporter": "python",
   "pygments_lexer": "ipython3",
   "version": "3.10.9"
  }
 },
 "nbformat": 4,
 "nbformat_minor": 5
}
